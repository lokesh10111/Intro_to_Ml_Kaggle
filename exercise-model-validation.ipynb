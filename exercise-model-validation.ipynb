{
 "cells": [
  {
   "cell_type": "markdown",
   "id": "369e1eef",
   "metadata": {
    "papermill": {
     "duration": 0.007387,
     "end_time": "2023-05-05T09:28:57.645792",
     "exception": false,
     "start_time": "2023-05-05T09:28:57.638405",
     "status": "completed"
    },
    "tags": []
   },
   "source": [
    "**This notebook is an exercise in the [Introduction to Machine Learning](https://www.kaggle.com/learn/intro-to-machine-learning) course.  You can reference the tutorial at [this link](https://www.kaggle.com/dansbecker/model-validation).**\n",
    "\n",
    "---\n"
   ]
  },
  {
   "cell_type": "markdown",
   "id": "ad5b0349",
   "metadata": {
    "papermill": {
     "duration": 0.004149,
     "end_time": "2023-05-05T09:28:57.654850",
     "exception": false,
     "start_time": "2023-05-05T09:28:57.650701",
     "status": "completed"
    },
    "tags": []
   },
   "source": [
    "## Recap\n",
    "You've built a model. In this exercise you will test how good your model is.\n",
    "\n",
    "Run the cell below to set up your coding environment where the previous exercise left off."
   ]
  },
  {
   "cell_type": "code",
   "execution_count": 1,
   "id": "50f04d9a",
   "metadata": {
    "execution": {
     "iopub.execute_input": "2023-05-05T09:28:57.665481Z",
     "iopub.status.busy": "2023-05-05T09:28:57.665089Z",
     "iopub.status.idle": "2023-05-05T09:28:59.441459Z",
     "shell.execute_reply": "2023-05-05T09:28:59.439858Z"
    },
    "papermill": {
     "duration": 1.785355,
     "end_time": "2023-05-05T09:28:59.444615",
     "exception": false,
     "start_time": "2023-05-05T09:28:57.659260",
     "status": "completed"
    },
    "tags": []
   },
   "outputs": [
    {
     "name": "stderr",
     "output_type": "stream",
     "text": [
      "/opt/conda/lib/python3.10/site-packages/scipy/__init__.py:146: UserWarning: A NumPy version >=1.16.5 and <1.23.0 is required for this version of SciPy (detected version 1.23.5\n",
      "  warnings.warn(f\"A NumPy version >={np_minversion} and <{np_maxversion}\"\n"
     ]
    },
    {
     "name": "stdout",
     "output_type": "stream",
     "text": [
      "First in-sample predictions: [208500. 181500. 223500. 140000. 250000.]\n",
      "Actual target values for those homes: [208500, 181500, 223500, 140000, 250000]\n"
     ]
    }
   ],
   "source": [
    "# Code you have previously used to load data\n",
    "import pandas as pd\n",
    "from sklearn.tree import DecisionTreeRegressor\n",
    "\n",
    "# Path of the file to read\n",
    "iowa_file_path = '../input/home-data-for-ml-course/train.csv'\n",
    "\n",
    "home_data = pd.read_csv(iowa_file_path)\n",
    "y = home_data.SalePrice\n",
    "feature_columns = ['LotArea', 'YearBuilt', '1stFlrSF', '2ndFlrSF', 'FullBath', 'BedroomAbvGr', 'TotRmsAbvGrd']\n",
    "X = home_data[feature_columns]\n",
    "\n",
    "# Specify Model\n",
    "iowa_model = DecisionTreeRegressor()\n",
    "# Fit Model\n",
    "iowa_model.fit(X, y)\n",
    "\n",
    "print(\"First in-sample predictions:\", iowa_model.predict(X.head()))\n",
    "print(\"Actual target values for those homes:\", y.head().tolist())\n",
    "\n",
    "# Set up code checking\n",
    "from learntools.core import binder\n",
    "binder.bind(globals())\n",
    "from learntools.machine_learning.ex4 import *"
   ]
  },
  {
   "cell_type": "markdown",
   "id": "fec10344",
   "metadata": {
    "papermill": {
     "duration": 0.004278,
     "end_time": "2023-05-05T09:28:59.453665",
     "exception": false,
     "start_time": "2023-05-05T09:28:59.449387",
     "status": "completed"
    },
    "tags": []
   },
   "source": [
    "# Exercises\n",
    "\n",
    "## Step 1: Split Your Data\n",
    "Use the `train_test_split` function to split up your data.\n",
    "\n",
    "Give it the argument `random_state=1` so the `check` functions know what to expect when verifying your code.\n",
    "\n",
    "Recall, your features are loaded in the DataFrame **X** and your target is loaded in **y**.\n"
   ]
  },
  {
   "cell_type": "code",
   "execution_count": 2,
   "id": "00f92e68",
   "metadata": {
    "execution": {
     "iopub.execute_input": "2023-05-05T09:28:59.466012Z",
     "iopub.status.busy": "2023-05-05T09:28:59.464618Z",
     "iopub.status.idle": "2023-05-05T09:28:59.478278Z",
     "shell.execute_reply": "2023-05-05T09:28:59.476980Z"
    },
    "papermill": {
     "duration": 0.022303,
     "end_time": "2023-05-05T09:28:59.480626",
     "exception": false,
     "start_time": "2023-05-05T09:28:59.458323",
     "status": "completed"
    },
    "tags": []
   },
   "outputs": [
    {
     "data": {
      "application/javascript": [
       "parent.postMessage({\"jupyterEvent\": \"custom.exercise_interaction\", \"data\": {\"outcomeType\": 1, \"valueTowardsCompletion\": 0.25, \"interactionType\": 1, \"questionType\": 2, \"questionId\": \"1_SplitData\", \"learnToolsVersion\": \"0.3.4\", \"failureMessage\": \"\", \"exceptionClass\": \"\", \"trace\": \"\"}}, \"*\")"
      ],
      "text/plain": [
       "<IPython.core.display.Javascript object>"
      ]
     },
     "metadata": {},
     "output_type": "display_data"
    },
    {
     "data": {
      "text/markdown": [
       "<span style=\"color:#33cc33\">Correct</span>"
      ],
      "text/plain": [
       "Correct"
      ]
     },
     "metadata": {},
     "output_type": "display_data"
    }
   ],
   "source": [
    "# Import the train_test_split function and uncomment\n",
    "from sklearn.model_selection import train_test_split\n",
    "\n",
    "# fill in and uncomment\n",
    "train_X, val_X, train_y, val_y =  train_test_split(X, y, random_state = 1)\n",
    "\n",
    "# Check your answer\n",
    "step_1.check()"
   ]
  },
  {
   "cell_type": "code",
   "execution_count": 3,
   "id": "fb41b642",
   "metadata": {
    "execution": {
     "iopub.execute_input": "2023-05-05T09:28:59.492001Z",
     "iopub.status.busy": "2023-05-05T09:28:59.491606Z",
     "iopub.status.idle": "2023-05-05T09:28:59.497962Z",
     "shell.execute_reply": "2023-05-05T09:28:59.496776Z"
    },
    "papermill": {
     "duration": 0.014776,
     "end_time": "2023-05-05T09:28:59.500212",
     "exception": false,
     "start_time": "2023-05-05T09:28:59.485436",
     "status": "completed"
    },
    "tags": []
   },
   "outputs": [],
   "source": [
    "# The lines below will show you a hint or the solution.\n",
    "# step_1.hint() \n",
    "# step_1.solution()\n"
   ]
  },
  {
   "cell_type": "markdown",
   "id": "bd3fd221",
   "metadata": {
    "papermill": {
     "duration": 0.004703,
     "end_time": "2023-05-05T09:28:59.509986",
     "exception": false,
     "start_time": "2023-05-05T09:28:59.505283",
     "status": "completed"
    },
    "tags": []
   },
   "source": [
    "## Step 2: Specify and Fit the Model\n",
    "\n",
    "Create a `DecisionTreeRegressor` model and fit it to the relevant data.\n",
    "Set `random_state` to 1 again when creating the model."
   ]
  },
  {
   "cell_type": "code",
   "execution_count": 4,
   "id": "6efba5ba",
   "metadata": {
    "execution": {
     "iopub.execute_input": "2023-05-05T09:28:59.521074Z",
     "iopub.status.busy": "2023-05-05T09:28:59.520696Z",
     "iopub.status.idle": "2023-05-05T09:28:59.549398Z",
     "shell.execute_reply": "2023-05-05T09:28:59.548546Z"
    },
    "papermill": {
     "duration": 0.036756,
     "end_time": "2023-05-05T09:28:59.551494",
     "exception": false,
     "start_time": "2023-05-05T09:28:59.514738",
     "status": "completed"
    },
    "tags": []
   },
   "outputs": [
    {
     "name": "stdout",
     "output_type": "stream",
     "text": [
      "[186500. 184000. 130000.  92000. 164500. 220000. 335000. 144152. 215000.\n",
      " 262000.]\n",
      "[186500. 184000. 130000.  92000. 164500. 220000. 335000. 144152. 215000.\n",
      " 262000.]\n"
     ]
    },
    {
     "data": {
      "application/javascript": [
       "parent.postMessage({\"jupyterEvent\": \"custom.exercise_interaction\", \"data\": {\"outcomeType\": 1, \"valueTowardsCompletion\": 0.25, \"interactionType\": 1, \"questionType\": 2, \"questionId\": \"2_FitModelWithTrain\", \"learnToolsVersion\": \"0.3.4\", \"failureMessage\": \"\", \"exceptionClass\": \"\", \"trace\": \"\"}}, \"*\")"
      ],
      "text/plain": [
       "<IPython.core.display.Javascript object>"
      ]
     },
     "metadata": {},
     "output_type": "display_data"
    },
    {
     "data": {
      "text/markdown": [
       "<span style=\"color:#33cc33\">Correct</span>"
      ],
      "text/plain": [
       "Correct"
      ]
     },
     "metadata": {},
     "output_type": "display_data"
    }
   ],
   "source": [
    "# You imported DecisionTreeRegressor in your last exercise\n",
    "# and that code has been copied to the setup code above. So, no need to\n",
    "# import it again\n",
    "\n",
    "# Specify the model\n",
    "iowa_model = DecisionTreeRegressor(random_state=1)\n",
    "\n",
    "# Fit iowa_model with the training data.\n",
    "iowa_model.fit(train_X,train_y)\n",
    "\n",
    "# Check your answer\n",
    "step_2.check()"
   ]
  },
  {
   "cell_type": "code",
   "execution_count": 5,
   "id": "578fe98e",
   "metadata": {
    "execution": {
     "iopub.execute_input": "2023-05-05T09:28:59.563640Z",
     "iopub.status.busy": "2023-05-05T09:28:59.563220Z",
     "iopub.status.idle": "2023-05-05T09:28:59.567734Z",
     "shell.execute_reply": "2023-05-05T09:28:59.566586Z"
    },
    "papermill": {
     "duration": 0.013664,
     "end_time": "2023-05-05T09:28:59.570197",
     "exception": false,
     "start_time": "2023-05-05T09:28:59.556533",
     "status": "completed"
    },
    "tags": []
   },
   "outputs": [],
   "source": [
    "#step_2.hint()\n",
    "#step_2.solution()"
   ]
  },
  {
   "cell_type": "markdown",
   "id": "fce9208c",
   "metadata": {
    "papermill": {
     "duration": 0.004744,
     "end_time": "2023-05-05T09:28:59.580083",
     "exception": false,
     "start_time": "2023-05-05T09:28:59.575339",
     "status": "completed"
    },
    "tags": []
   },
   "source": [
    "## Step 3: Make Predictions with Validation data\n"
   ]
  },
  {
   "cell_type": "code",
   "execution_count": 6,
   "id": "ff0375c7",
   "metadata": {
    "execution": {
     "iopub.execute_input": "2023-05-05T09:28:59.592374Z",
     "iopub.status.busy": "2023-05-05T09:28:59.591930Z",
     "iopub.status.idle": "2023-05-05T09:28:59.603730Z",
     "shell.execute_reply": "2023-05-05T09:28:59.602634Z"
    },
    "papermill": {
     "duration": 0.021053,
     "end_time": "2023-05-05T09:28:59.606115",
     "exception": false,
     "start_time": "2023-05-05T09:28:59.585062",
     "status": "completed"
    },
    "tags": []
   },
   "outputs": [
    {
     "data": {
      "application/javascript": [
       "parent.postMessage({\"jupyterEvent\": \"custom.exercise_interaction\", \"data\": {\"outcomeType\": 1, \"valueTowardsCompletion\": 0.25, \"interactionType\": 1, \"questionType\": 2, \"questionId\": \"3_ValPreds\", \"learnToolsVersion\": \"0.3.4\", \"failureMessage\": \"\", \"exceptionClass\": \"\", \"trace\": \"\"}}, \"*\")"
      ],
      "text/plain": [
       "<IPython.core.display.Javascript object>"
      ]
     },
     "metadata": {},
     "output_type": "display_data"
    },
    {
     "data": {
      "text/markdown": [
       "<span style=\"color:#33cc33\">Correct</span>"
      ],
      "text/plain": [
       "Correct"
      ]
     },
     "metadata": {},
     "output_type": "display_data"
    }
   ],
   "source": [
    "# Predict with all validation observations\n",
    "val_predictions = iowa_model.predict(val_X)\n",
    "\n",
    "# Check your answer\n",
    "step_3.check()"
   ]
  },
  {
   "cell_type": "code",
   "execution_count": 7,
   "id": "731b40fc",
   "metadata": {
    "execution": {
     "iopub.execute_input": "2023-05-05T09:28:59.618381Z",
     "iopub.status.busy": "2023-05-05T09:28:59.617971Z",
     "iopub.status.idle": "2023-05-05T09:28:59.622698Z",
     "shell.execute_reply": "2023-05-05T09:28:59.621632Z"
    },
    "papermill": {
     "duration": 0.013298,
     "end_time": "2023-05-05T09:28:59.624748",
     "exception": false,
     "start_time": "2023-05-05T09:28:59.611450",
     "status": "completed"
    },
    "tags": []
   },
   "outputs": [],
   "source": [
    "#step_3.hint()\n",
    "#step_3.solution()"
   ]
  },
  {
   "cell_type": "markdown",
   "id": "8808e1ce",
   "metadata": {
    "papermill": {
     "duration": 0.005086,
     "end_time": "2023-05-05T09:28:59.635110",
     "exception": false,
     "start_time": "2023-05-05T09:28:59.630024",
     "status": "completed"
    },
    "tags": []
   },
   "source": [
    "Inspect your predictions and actual values from validation data."
   ]
  },
  {
   "cell_type": "code",
   "execution_count": 8,
   "id": "94bbf0b6",
   "metadata": {
    "execution": {
     "iopub.execute_input": "2023-05-05T09:28:59.648075Z",
     "iopub.status.busy": "2023-05-05T09:28:59.647332Z",
     "iopub.status.idle": "2023-05-05T09:28:59.662995Z",
     "shell.execute_reply": "2023-05-05T09:28:59.662249Z"
    },
    "papermill": {
     "duration": 0.024609,
     "end_time": "2023-05-05T09:28:59.665340",
     "exception": false,
     "start_time": "2023-05-05T09:28:59.640731",
     "status": "completed"
    },
    "tags": []
   },
   "outputs": [
    {
     "name": "stdout",
     "output_type": "stream",
     "text": [
      "list[      LotArea  YearBuilt  1stFlrSF  2ndFlrSF  FullBath  BedroomAbvGr  \\\n",
      "258     12435       2001       963       829         2             3   \n",
      "267      8400       1939      1052       720         2             4   \n",
      "288      9819       1967       900         0         1             3   \n",
      "649      1936       1970       630         0         1             1   \n",
      "1233    12160       1959      1188         0         1             3   \n",
      "...       ...        ...       ...       ...       ...           ...   \n",
      "1017     5814       1984      1360         0         1             1   \n",
      "534      9056       2004       707       707         2             3   \n",
      "1334     2368       1970       765       600         1             3   \n",
      "1369    10635       2003      1668         0         2             3   \n",
      "628     11606       1969      1040      1040         1             5   \n",
      "\n",
      "      TotRmsAbvGrd  \n",
      "258              7  \n",
      "267              8  \n",
      "288              5  \n",
      "649              3  \n",
      "1233             6  \n",
      "...            ...  \n",
      "1017             4  \n",
      "534              6  \n",
      "1334             7  \n",
      "1369             8  \n",
      "628              9  \n",
      "\n",
      "[365 rows x 7 columns]]\n",
      "258     231500\n",
      "267     179500\n",
      "288     122000\n",
      "649      84500\n",
      "1233    142000\n",
      "         ...  \n",
      "1017    187500\n",
      "534     178000\n",
      "1334    125000\n",
      "1369    232000\n",
      "628     135000\n",
      "Name: SalePrice, Length: 365, dtype: int64\n"
     ]
    }
   ],
   "source": [
    "# print the top few validation predictions\n",
    "print(list[val_X])\n",
    "# print the top few actual prices from validation data\n",
    "print(val_y)"
   ]
  },
  {
   "cell_type": "markdown",
   "id": "574877ee",
   "metadata": {
    "papermill": {
     "duration": 0.005025,
     "end_time": "2023-05-05T09:28:59.675972",
     "exception": false,
     "start_time": "2023-05-05T09:28:59.670947",
     "status": "completed"
    },
    "tags": []
   },
   "source": [
    "What do you notice that is different from what you saw with in-sample predictions (which are printed after the top code cell in this page).\n",
    "\n",
    "Do you remember why validation predictions differ from in-sample (or training) predictions? This is an important idea from the last lesson.\n",
    "\n",
    "## Step 4: Calculate the Mean Absolute Error in Validation Data\n"
   ]
  },
  {
   "cell_type": "code",
   "execution_count": 9,
   "id": "96441607",
   "metadata": {
    "execution": {
     "iopub.execute_input": "2023-05-05T09:28:59.688762Z",
     "iopub.status.busy": "2023-05-05T09:28:59.687961Z",
     "iopub.status.idle": "2023-05-05T09:28:59.699972Z",
     "shell.execute_reply": "2023-05-05T09:28:59.698856Z"
    },
    "papermill": {
     "duration": 0.020621,
     "end_time": "2023-05-05T09:28:59.701980",
     "exception": false,
     "start_time": "2023-05-05T09:28:59.681359",
     "status": "completed"
    },
    "tags": []
   },
   "outputs": [
    {
     "name": "stdout",
     "output_type": "stream",
     "text": [
      "29652.931506849316\n"
     ]
    },
    {
     "data": {
      "application/javascript": [
       "parent.postMessage({\"jupyterEvent\": \"custom.exercise_interaction\", \"data\": {\"outcomeType\": 1, \"valueTowardsCompletion\": 0.25, \"interactionType\": 1, \"questionType\": 1, \"questionId\": \"4_MAE\", \"learnToolsVersion\": \"0.3.4\", \"failureMessage\": \"\", \"exceptionClass\": \"\", \"trace\": \"\"}}, \"*\")"
      ],
      "text/plain": [
       "<IPython.core.display.Javascript object>"
      ]
     },
     "metadata": {},
     "output_type": "display_data"
    },
    {
     "data": {
      "text/markdown": [
       "<span style=\"color:#33cc33\">Correct</span>"
      ],
      "text/plain": [
       "Correct"
      ]
     },
     "metadata": {},
     "output_type": "display_data"
    }
   ],
   "source": [
    "from sklearn.metrics import mean_absolute_error\n",
    "val_mae = mean_absolute_error(val_y,val_predictions)\n",
    "# uncomment following line to see the validation_mae\n",
    "print(val_mae)\n",
    "\n",
    "# Check your answer\n",
    "step_4.check()"
   ]
  },
  {
   "cell_type": "code",
   "execution_count": 10,
   "id": "fee39aa9",
   "metadata": {
    "execution": {
     "iopub.execute_input": "2023-05-05T09:28:59.715348Z",
     "iopub.status.busy": "2023-05-05T09:28:59.714255Z",
     "iopub.status.idle": "2023-05-05T09:28:59.719005Z",
     "shell.execute_reply": "2023-05-05T09:28:59.718061Z"
    },
    "papermill": {
     "duration": 0.013689,
     "end_time": "2023-05-05T09:28:59.721170",
     "exception": false,
     "start_time": "2023-05-05T09:28:59.707481",
     "status": "completed"
    },
    "tags": []
   },
   "outputs": [],
   "source": [
    "# step_4.hint()\n",
    "#step_4.solution()"
   ]
  },
  {
   "cell_type": "markdown",
   "id": "234eb806",
   "metadata": {
    "papermill": {
     "duration": 0.005382,
     "end_time": "2023-05-05T09:28:59.732299",
     "exception": false,
     "start_time": "2023-05-05T09:28:59.726917",
     "status": "completed"
    },
    "tags": []
   },
   "source": [
    "Is that MAE good?  There isn't a general rule for what values are good that applies across applications. But you'll see how to use (and improve) this number in the next step.\n",
    "\n",
    "# Keep Going\n",
    "\n",
    "You are ready for **[Underfitting and Overfitting](https://www.kaggle.com/dansbecker/underfitting-and-overfitting).**\n"
   ]
  },
  {
   "cell_type": "markdown",
   "id": "bb2ca87e",
   "metadata": {
    "papermill": {
     "duration": 0.005121,
     "end_time": "2023-05-05T09:28:59.742935",
     "exception": false,
     "start_time": "2023-05-05T09:28:59.737814",
     "status": "completed"
    },
    "tags": []
   },
   "source": [
    "---\n",
    "\n",
    "\n",
    "\n",
    "\n",
    "*Have questions or comments? Visit the [course discussion forum](https://www.kaggle.com/learn/intro-to-machine-learning/discussion) to chat with other learners.*"
   ]
  }
 ],
 "metadata": {
  "kernelspec": {
   "display_name": "Python 3",
   "language": "python",
   "name": "python3"
  },
  "language_info": {
   "codemirror_mode": {
    "name": "ipython",
    "version": 3
   },
   "file_extension": ".py",
   "mimetype": "text/x-python",
   "name": "python",
   "nbconvert_exporter": "python",
   "pygments_lexer": "ipython3",
   "version": "3.10.10"
  },
  "papermill": {
   "default_parameters": {},
   "duration": 15.931112,
   "end_time": "2023-05-05T09:29:00.771265",
   "environment_variables": {},
   "exception": null,
   "input_path": "__notebook__.ipynb",
   "output_path": "__notebook__.ipynb",
   "parameters": {},
   "start_time": "2023-05-05T09:28:44.840153",
   "version": "2.4.0"
  }
 },
 "nbformat": 4,
 "nbformat_minor": 5
}
