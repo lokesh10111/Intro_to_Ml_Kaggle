{
 "cells": [
  {
   "cell_type": "markdown",
   "id": "fa2ce12b",
   "metadata": {
    "papermill": {
     "duration": 0.005227,
     "end_time": "2023-05-05T09:14:49.014094",
     "exception": false,
     "start_time": "2023-05-05T09:14:49.008867",
     "status": "completed"
    },
    "tags": []
   },
   "source": [
    "**This notebook is an exercise in the [Introduction to Machine Learning](https://www.kaggle.com/learn/intro-to-machine-learning) course.  You can reference the tutorial at [this link](https://www.kaggle.com/dansbecker/your-first-machine-learning-model).**\n",
    "\n",
    "---\n"
   ]
  },
  {
   "cell_type": "markdown",
   "id": "4fc41f1d",
   "metadata": {
    "papermill": {
     "duration": 0.00441,
     "end_time": "2023-05-05T09:14:49.023397",
     "exception": false,
     "start_time": "2023-05-05T09:14:49.018987",
     "status": "completed"
    },
    "tags": []
   },
   "source": [
    "## Recap\n",
    "So far, you have loaded your data and reviewed it with the following code. Run this cell to set up your coding environment where the previous step left off."
   ]
  },
  {
   "cell_type": "code",
   "execution_count": 1,
   "id": "bb404d64",
   "metadata": {
    "execution": {
     "iopub.execute_input": "2023-05-05T09:14:49.034855Z",
     "iopub.status.busy": "2023-05-05T09:14:49.034411Z",
     "iopub.status.idle": "2023-05-05T09:14:50.967879Z",
     "shell.execute_reply": "2023-05-05T09:14:50.966640Z"
    },
    "papermill": {
     "duration": 1.942306,
     "end_time": "2023-05-05T09:14:50.970491",
     "exception": false,
     "start_time": "2023-05-05T09:14:49.028185",
     "status": "completed"
    },
    "tags": []
   },
   "outputs": [
    {
     "name": "stderr",
     "output_type": "stream",
     "text": [
      "/opt/conda/lib/python3.10/site-packages/scipy/__init__.py:146: UserWarning: A NumPy version >=1.16.5 and <1.23.0 is required for this version of SciPy (detected version 1.23.5\n",
      "  warnings.warn(f\"A NumPy version >={np_minversion} and <{np_maxversion}\"\n"
     ]
    }
   ],
   "source": [
    "# Code you have previously used to load data\n",
    "import pandas as pd\n",
    "\n",
    "# Path of the file to read\n",
    "iowa_file_path = '../input/home-data-for-ml-course/train.csv'\n",
    "\n",
    "home_data = pd.read_csv(iowa_file_path)\n",
    "\n",
    "# Set up code checking\n",
    "from learntools.core import binder\n",
    "binder.bind(globals())\n",
    "from learntools.machine_learning.ex3 import *\n"
   ]
  },
  {
   "cell_type": "markdown",
   "id": "caa25676",
   "metadata": {
    "papermill": {
     "duration": 0.004708,
     "end_time": "2023-05-05T09:14:50.980284",
     "exception": false,
     "start_time": "2023-05-05T09:14:50.975576",
     "status": "completed"
    },
    "tags": []
   },
   "source": [
    "# Exercises\n",
    "\n",
    "## Step 1: Specify Prediction Target\n",
    "Select the target variable, which corresponds to the sales price. Save this to a new variable called `y`. You'll need to print a list of the columns to find the name of the column you need.\n"
   ]
  },
  {
   "cell_type": "code",
   "execution_count": 2,
   "id": "da658915",
   "metadata": {
    "execution": {
     "iopub.execute_input": "2023-05-05T09:14:50.992214Z",
     "iopub.status.busy": "2023-05-05T09:14:50.991749Z",
     "iopub.status.idle": "2023-05-05T09:14:51.000361Z",
     "shell.execute_reply": "2023-05-05T09:14:50.998944Z"
    },
    "papermill": {
     "duration": 0.017869,
     "end_time": "2023-05-05T09:14:51.003078",
     "exception": false,
     "start_time": "2023-05-05T09:14:50.985209",
     "status": "completed"
    },
    "tags": []
   },
   "outputs": [
    {
     "data": {
      "text/plain": [
       "Index(['Id', 'MSSubClass', 'MSZoning', 'LotFrontage', 'LotArea', 'Street',\n",
       "       'Alley', 'LotShape', 'LandContour', 'Utilities', 'LotConfig',\n",
       "       'LandSlope', 'Neighborhood', 'Condition1', 'Condition2', 'BldgType',\n",
       "       'HouseStyle', 'OverallQual', 'OverallCond', 'YearBuilt', 'YearRemodAdd',\n",
       "       'RoofStyle', 'RoofMatl', 'Exterior1st', 'Exterior2nd', 'MasVnrType',\n",
       "       'MasVnrArea', 'ExterQual', 'ExterCond', 'Foundation', 'BsmtQual',\n",
       "       'BsmtCond', 'BsmtExposure', 'BsmtFinType1', 'BsmtFinSF1',\n",
       "       'BsmtFinType2', 'BsmtFinSF2', 'BsmtUnfSF', 'TotalBsmtSF', 'Heating',\n",
       "       'HeatingQC', 'CentralAir', 'Electrical', '1stFlrSF', '2ndFlrSF',\n",
       "       'LowQualFinSF', 'GrLivArea', 'BsmtFullBath', 'BsmtHalfBath', 'FullBath',\n",
       "       'HalfBath', 'BedroomAbvGr', 'KitchenAbvGr', 'KitchenQual',\n",
       "       'TotRmsAbvGrd', 'Functional', 'Fireplaces', 'FireplaceQu', 'GarageType',\n",
       "       'GarageYrBlt', 'GarageFinish', 'GarageCars', 'GarageArea', 'GarageQual',\n",
       "       'GarageCond', 'PavedDrive', 'WoodDeckSF', 'OpenPorchSF',\n",
       "       'EnclosedPorch', '3SsnPorch', 'ScreenPorch', 'PoolArea', 'PoolQC',\n",
       "       'Fence', 'MiscFeature', 'MiscVal', 'MoSold', 'YrSold', 'SaleType',\n",
       "       'SaleCondition', 'SalePrice'],\n",
       "      dtype='object')"
      ]
     },
     "execution_count": 2,
     "metadata": {},
     "output_type": "execute_result"
    }
   ],
   "source": [
    "# print the list of columns in the dataset to find the name of the prediction target\n",
    "home_data.columns"
   ]
  },
  {
   "cell_type": "code",
   "execution_count": 3,
   "id": "b7085fcb",
   "metadata": {
    "execution": {
     "iopub.execute_input": "2023-05-05T09:14:51.016194Z",
     "iopub.status.busy": "2023-05-05T09:14:51.015729Z",
     "iopub.status.idle": "2023-05-05T09:14:51.029516Z",
     "shell.execute_reply": "2023-05-05T09:14:51.028367Z"
    },
    "papermill": {
     "duration": 0.023142,
     "end_time": "2023-05-05T09:14:51.031736",
     "exception": false,
     "start_time": "2023-05-05T09:14:51.008594",
     "status": "completed"
    },
    "tags": []
   },
   "outputs": [
    {
     "data": {
      "application/javascript": [
       "parent.postMessage({\"jupyterEvent\": \"custom.exercise_interaction\", \"data\": {\"outcomeType\": 1, \"valueTowardsCompletion\": 0.25, \"interactionType\": 1, \"questionType\": 2, \"questionId\": \"1_SetTarget\", \"learnToolsVersion\": \"0.3.4\", \"failureMessage\": \"\", \"exceptionClass\": \"\", \"trace\": \"\"}}, \"*\")"
      ],
      "text/plain": [
       "<IPython.core.display.Javascript object>"
      ]
     },
     "metadata": {},
     "output_type": "display_data"
    },
    {
     "data": {
      "text/markdown": [
       "<span style=\"color:#33cc33\">Correct</span>"
      ],
      "text/plain": [
       "Correct"
      ]
     },
     "metadata": {},
     "output_type": "display_data"
    }
   ],
   "source": [
    "y = home_data.SalePrice\n",
    "\n",
    "# Check your answer\n",
    "step_1.check()"
   ]
  },
  {
   "cell_type": "code",
   "execution_count": 4,
   "id": "c73563d9",
   "metadata": {
    "execution": {
     "iopub.execute_input": "2023-05-05T09:14:51.044728Z",
     "iopub.status.busy": "2023-05-05T09:14:51.044204Z",
     "iopub.status.idle": "2023-05-05T09:14:51.049302Z",
     "shell.execute_reply": "2023-05-05T09:14:51.048101Z"
    },
    "papermill": {
     "duration": 0.014255,
     "end_time": "2023-05-05T09:14:51.051448",
     "exception": false,
     "start_time": "2023-05-05T09:14:51.037193",
     "status": "completed"
    },
    "tags": []
   },
   "outputs": [],
   "source": [
    "# The lines below will show you a hint or the solution.\n",
    "# step_1.hint() \n",
    "# step_1.solution()"
   ]
  },
  {
   "cell_type": "markdown",
   "id": "ae36eadc",
   "metadata": {
    "papermill": {
     "duration": 0.005555,
     "end_time": "2023-05-05T09:14:51.062547",
     "exception": false,
     "start_time": "2023-05-05T09:14:51.056992",
     "status": "completed"
    },
    "tags": []
   },
   "source": [
    "## Step 2: Create X\n",
    "Now you will create a DataFrame called `X` holding the predictive features.\n",
    "\n",
    "Since you want only some columns from the original data, you'll first create a list with the names of the columns you want in `X`.\n",
    "\n",
    "You'll use just the following columns in the list (you can copy and paste the whole list to save some typing, though you'll still need to add quotes):\n",
    "  * LotArea\n",
    "  * YearBuilt\n",
    "  * 1stFlrSF\n",
    "  * 2ndFlrSF\n",
    "  * FullBath\n",
    "  * BedroomAbvGr\n",
    "  * TotRmsAbvGrd\n",
    "\n",
    "After you've created that list of features, use it to create the DataFrame that you'll use to fit the model."
   ]
  },
  {
   "cell_type": "code",
   "execution_count": 5,
   "id": "c46d4786",
   "metadata": {
    "execution": {
     "iopub.execute_input": "2023-05-05T09:14:51.075341Z",
     "iopub.status.busy": "2023-05-05T09:14:51.074921Z",
     "iopub.status.idle": "2023-05-05T09:14:51.093599Z",
     "shell.execute_reply": "2023-05-05T09:14:51.092740Z"
    },
    "papermill": {
     "duration": 0.027757,
     "end_time": "2023-05-05T09:14:51.095822",
     "exception": false,
     "start_time": "2023-05-05T09:14:51.068065",
     "status": "completed"
    },
    "tags": []
   },
   "outputs": [
    {
     "data": {
      "application/javascript": [
       "parent.postMessage({\"jupyterEvent\": \"custom.exercise_interaction\", \"data\": {\"outcomeType\": 1, \"valueTowardsCompletion\": 0.25, \"interactionType\": 1, \"questionType\": 2, \"questionId\": \"2_SelectPredictionData\", \"learnToolsVersion\": \"0.3.4\", \"failureMessage\": \"\", \"exceptionClass\": \"\", \"trace\": \"\"}}, \"*\")"
      ],
      "text/plain": [
       "<IPython.core.display.Javascript object>"
      ]
     },
     "metadata": {},
     "output_type": "display_data"
    },
    {
     "data": {
      "text/markdown": [
       "<span style=\"color:#33cc33\">Correct</span>"
      ],
      "text/plain": [
       "Correct"
      ]
     },
     "metadata": {},
     "output_type": "display_data"
    }
   ],
   "source": [
    "# Create the list of features below\n",
    "feature_names = ['LotArea','YearBuilt','1stFlrSF','2ndFlrSF','FullBath','BedroomAbvGr','TotRmsAbvGrd']\n",
    "\n",
    "# Select data corresponding to features in feature_names\n",
    "X = home_data[feature_names]\n",
    "\n",
    "# Check your answer\n",
    "step_2.check()"
   ]
  },
  {
   "cell_type": "code",
   "execution_count": 6,
   "id": "eedaeb59",
   "metadata": {
    "execution": {
     "iopub.execute_input": "2023-05-05T09:14:51.110923Z",
     "iopub.status.busy": "2023-05-05T09:14:51.109679Z",
     "iopub.status.idle": "2023-05-05T09:14:51.114576Z",
     "shell.execute_reply": "2023-05-05T09:14:51.113365Z"
    },
    "papermill": {
     "duration": 0.015049,
     "end_time": "2023-05-05T09:14:51.116963",
     "exception": false,
     "start_time": "2023-05-05T09:14:51.101914",
     "status": "completed"
    },
    "tags": []
   },
   "outputs": [],
   "source": [
    "# step_2.hint()\n",
    "# step_2.solution()"
   ]
  },
  {
   "cell_type": "markdown",
   "id": "44a47c50",
   "metadata": {
    "papermill": {
     "duration": 0.005392,
     "end_time": "2023-05-05T09:14:51.128124",
     "exception": false,
     "start_time": "2023-05-05T09:14:51.122732",
     "status": "completed"
    },
    "tags": []
   },
   "source": [
    "## Review Data\n",
    "Before building a model, take a quick look at **X** to verify it looks sensible"
   ]
  },
  {
   "cell_type": "code",
   "execution_count": 7,
   "id": "0a6f7a52",
   "metadata": {
    "execution": {
     "iopub.execute_input": "2023-05-05T09:14:51.141169Z",
     "iopub.status.busy": "2023-05-05T09:14:51.140710Z",
     "iopub.status.idle": "2023-05-05T09:14:51.157812Z",
     "shell.execute_reply": "2023-05-05T09:14:51.156014Z"
    },
    "papermill": {
     "duration": 0.026655,
     "end_time": "2023-05-05T09:14:51.160451",
     "exception": false,
     "start_time": "2023-05-05T09:14:51.133796",
     "status": "completed"
    },
    "tags": []
   },
   "outputs": [
    {
     "name": "stdout",
     "output_type": "stream",
     "text": [
      "      LotArea  YearBuilt  1stFlrSF  2ndFlrSF  FullBath  BedroomAbvGr  \\\n",
      "0        8450       2003       856       854         2             3   \n",
      "1        9600       1976      1262         0         2             3   \n",
      "2       11250       2001       920       866         2             3   \n",
      "3        9550       1915       961       756         1             3   \n",
      "4       14260       2000      1145      1053         2             4   \n",
      "...       ...        ...       ...       ...       ...           ...   \n",
      "1455     7917       1999       953       694         2             3   \n",
      "1456    13175       1978      2073         0         2             3   \n",
      "1457     9042       1941      1188      1152         2             4   \n",
      "1458     9717       1950      1078         0         1             2   \n",
      "1459     9937       1965      1256         0         1             3   \n",
      "\n",
      "      TotRmsAbvGrd  \n",
      "0                8  \n",
      "1                6  \n",
      "2                6  \n",
      "3                7  \n",
      "4                9  \n",
      "...            ...  \n",
      "1455             7  \n",
      "1456             7  \n",
      "1457             9  \n",
      "1458             5  \n",
      "1459             6  \n",
      "\n",
      "[1460 rows x 7 columns]\n",
      "   LotArea  YearBuilt  1stFlrSF  2ndFlrSF  FullBath  BedroomAbvGr  \\\n",
      "0     8450       2003       856       854         2             3   \n",
      "1     9600       1976      1262         0         2             3   \n",
      "2    11250       2001       920       866         2             3   \n",
      "3     9550       1915       961       756         1             3   \n",
      "4    14260       2000      1145      1053         2             4   \n",
      "\n",
      "   TotRmsAbvGrd  \n",
      "0             8  \n",
      "1             6  \n",
      "2             6  \n",
      "3             7  \n",
      "4             9  \n"
     ]
    }
   ],
   "source": [
    "# Review data\n",
    "# print description or statistics from X\n",
    "print(X)\n",
    "\n",
    "# print the top few lines\n",
    "print(X.head())"
   ]
  },
  {
   "cell_type": "markdown",
   "id": "3b7177e6",
   "metadata": {
    "papermill": {
     "duration": 0.005574,
     "end_time": "2023-05-05T09:14:51.171846",
     "exception": false,
     "start_time": "2023-05-05T09:14:51.166272",
     "status": "completed"
    },
    "tags": []
   },
   "source": [
    "## Step 3: Specify and Fit Model\n",
    "Create a `DecisionTreeRegressor` and save it iowa_model. Ensure you've done the relevant import from sklearn to run this command.\n",
    "\n",
    "Then fit the model you just created using the data in `X` and `y` that you saved above."
   ]
  },
  {
   "cell_type": "code",
   "execution_count": 8,
   "id": "acc0a60e",
   "metadata": {
    "execution": {
     "iopub.execute_input": "2023-05-05T09:14:51.185017Z",
     "iopub.status.busy": "2023-05-05T09:14:51.184550Z",
     "iopub.status.idle": "2023-05-05T09:14:51.207193Z",
     "shell.execute_reply": "2023-05-05T09:14:51.206031Z"
    },
    "papermill": {
     "duration": 0.032165,
     "end_time": "2023-05-05T09:14:51.209575",
     "exception": false,
     "start_time": "2023-05-05T09:14:51.177410",
     "status": "completed"
    },
    "tags": []
   },
   "outputs": [
    {
     "data": {
      "application/javascript": [
       "parent.postMessage({\"jupyterEvent\": \"custom.exercise_interaction\", \"data\": {\"outcomeType\": 1, \"valueTowardsCompletion\": 0.25, \"interactionType\": 1, \"questionType\": 2, \"questionId\": \"3_CreateModel\", \"learnToolsVersion\": \"0.3.4\", \"failureMessage\": \"\", \"exceptionClass\": \"\", \"trace\": \"\"}}, \"*\")"
      ],
      "text/plain": [
       "<IPython.core.display.Javascript object>"
      ]
     },
     "metadata": {},
     "output_type": "display_data"
    },
    {
     "data": {
      "text/markdown": [
       "<span style=\"color:#33cc33\">Correct</span>"
      ],
      "text/plain": [
       "Correct"
      ]
     },
     "metadata": {},
     "output_type": "display_data"
    }
   ],
   "source": [
    "from sklearn.tree import DecisionTreeRegressor\n",
    "#specify the model. \n",
    "#For model reproducibility, set a numeric value for random_state when specifying the model\n",
    "iowa_model = DecisionTreeRegressor(random_state=1)\n",
    "\n",
    "# Fit the model\n",
    "iowa_model.fit(X, y)\n",
    "# Check your answer\n",
    "step_3.check()"
   ]
  },
  {
   "cell_type": "code",
   "execution_count": 9,
   "id": "08ca07f5",
   "metadata": {
    "execution": {
     "iopub.execute_input": "2023-05-05T09:14:51.224063Z",
     "iopub.status.busy": "2023-05-05T09:14:51.223675Z",
     "iopub.status.idle": "2023-05-05T09:14:51.228316Z",
     "shell.execute_reply": "2023-05-05T09:14:51.227098Z"
    },
    "papermill": {
     "duration": 0.015088,
     "end_time": "2023-05-05T09:14:51.230733",
     "exception": false,
     "start_time": "2023-05-05T09:14:51.215645",
     "status": "completed"
    },
    "tags": []
   },
   "outputs": [],
   "source": [
    "#step_3.hint()\n",
    "#step_3.solution()"
   ]
  },
  {
   "cell_type": "markdown",
   "id": "a6756dcb",
   "metadata": {
    "papermill": {
     "duration": 0.005767,
     "end_time": "2023-05-05T09:14:51.242493",
     "exception": false,
     "start_time": "2023-05-05T09:14:51.236726",
     "status": "completed"
    },
    "tags": []
   },
   "source": [
    "## Step 4: Make Predictions\n",
    "Make predictions with the model's `predict` command using `X` as the data. Save the results to a variable called `predictions`."
   ]
  },
  {
   "cell_type": "code",
   "execution_count": 10,
   "id": "c20b8a37",
   "metadata": {
    "execution": {
     "iopub.execute_input": "2023-05-05T09:14:51.256626Z",
     "iopub.status.busy": "2023-05-05T09:14:51.256243Z",
     "iopub.status.idle": "2023-05-05T09:14:51.269705Z",
     "shell.execute_reply": "2023-05-05T09:14:51.268823Z"
    },
    "papermill": {
     "duration": 0.022804,
     "end_time": "2023-05-05T09:14:51.271619",
     "exception": false,
     "start_time": "2023-05-05T09:14:51.248815",
     "status": "completed"
    },
    "tags": []
   },
   "outputs": [
    {
     "name": "stdout",
     "output_type": "stream",
     "text": [
      "[208500. 181500. 223500. ... 266500. 142125. 147500.]\n"
     ]
    },
    {
     "data": {
      "application/javascript": [
       "parent.postMessage({\"jupyterEvent\": \"custom.exercise_interaction\", \"data\": {\"outcomeType\": 1, \"valueTowardsCompletion\": 0.25, \"interactionType\": 1, \"questionType\": 2, \"questionId\": \"4_MakePredictions\", \"learnToolsVersion\": \"0.3.4\", \"failureMessage\": \"\", \"exceptionClass\": \"\", \"trace\": \"\"}}, \"*\")"
      ],
      "text/plain": [
       "<IPython.core.display.Javascript object>"
      ]
     },
     "metadata": {},
     "output_type": "display_data"
    },
    {
     "data": {
      "text/markdown": [
       "<span style=\"color:#33cc33\">Correct</span>"
      ],
      "text/plain": [
       "Correct"
      ]
     },
     "metadata": {},
     "output_type": "display_data"
    }
   ],
   "source": [
    "predictions = iowa_model.predict(X)\n",
    "print(predictions)\n",
    "\n",
    "# Check your answer\n",
    "step_4.check()"
   ]
  },
  {
   "cell_type": "code",
   "execution_count": 11,
   "id": "91680e59",
   "metadata": {
    "execution": {
     "iopub.execute_input": "2023-05-05T09:14:51.286681Z",
     "iopub.status.busy": "2023-05-05T09:14:51.286301Z",
     "iopub.status.idle": "2023-05-05T09:14:51.290066Z",
     "shell.execute_reply": "2023-05-05T09:14:51.289114Z"
    },
    "papermill": {
     "duration": 0.01415,
     "end_time": "2023-05-05T09:14:51.292163",
     "exception": false,
     "start_time": "2023-05-05T09:14:51.278013",
     "status": "completed"
    },
    "tags": []
   },
   "outputs": [],
   "source": [
    "# step_4.hint()\n",
    "# step_4.solution()"
   ]
  },
  {
   "cell_type": "markdown",
   "id": "58dd9087",
   "metadata": {
    "papermill": {
     "duration": 0.006387,
     "end_time": "2023-05-05T09:14:51.305040",
     "exception": false,
     "start_time": "2023-05-05T09:14:51.298653",
     "status": "completed"
    },
    "tags": []
   },
   "source": [
    "## Think About Your Results\n",
    "\n",
    "Use the `head` method to compare the top few predictions to the actual home values (in `y`) for those same homes. Anything surprising?\n"
   ]
  },
  {
   "cell_type": "code",
   "execution_count": 12,
   "id": "dd6c3af5",
   "metadata": {
    "execution": {
     "iopub.execute_input": "2023-05-05T09:14:51.320426Z",
     "iopub.status.busy": "2023-05-05T09:14:51.319762Z",
     "iopub.status.idle": "2023-05-05T09:14:51.326806Z",
     "shell.execute_reply": "2023-05-05T09:14:51.325336Z"
    },
    "papermill": {
     "duration": 0.017623,
     "end_time": "2023-05-05T09:14:51.329604",
     "exception": false,
     "start_time": "2023-05-05T09:14:51.311981",
     "status": "completed"
    },
    "tags": []
   },
   "outputs": [
    {
     "name": "stdout",
     "output_type": "stream",
     "text": [
      "{'Predicted Value': [array([208500., 181500., 223500., 140000., 250000.])], 'Actual Value': [0    208500\n",
      "1    181500\n",
      "2    223500\n",
      "3    140000\n",
      "4    250000\n",
      "Name: SalePrice, dtype: int64]}\n"
     ]
    }
   ],
   "source": [
    "# You can write code in this cell\n",
    "dict={\n",
    "    'Predicted Value' :[predictions[:5]],\n",
    "    'Actual Value':[y.head()],\n",
    "}\n",
    "print(dict)\n"
   ]
  },
  {
   "cell_type": "markdown",
   "id": "20115933",
   "metadata": {
    "papermill": {
     "duration": 0.006014,
     "end_time": "2023-05-05T09:14:51.342522",
     "exception": false,
     "start_time": "2023-05-05T09:14:51.336508",
     "status": "completed"
    },
    "tags": []
   },
   "source": [
    "It's natural to ask how accurate the model's predictions will be and how you can improve that. That will be you're next step.\n",
    "\n",
    "# Keep Going\n",
    "\n",
    "You are ready for **[Model Validation](https://www.kaggle.com/dansbecker/model-validation).**\n"
   ]
  },
  {
   "cell_type": "markdown",
   "id": "0c43b851",
   "metadata": {
    "papermill": {
     "duration": 0.006474,
     "end_time": "2023-05-05T09:14:51.355557",
     "exception": false,
     "start_time": "2023-05-05T09:14:51.349083",
     "status": "completed"
    },
    "tags": []
   },
   "source": [
    "---\n",
    "\n",
    "\n",
    "\n",
    "\n",
    "*Have questions or comments? Visit the [course discussion forum](https://www.kaggle.com/learn/intro-to-machine-learning/discussion) to chat with other learners.*"
   ]
  }
 ],
 "metadata": {
  "kernelspec": {
   "display_name": "Python 3",
   "language": "python",
   "name": "python3"
  },
  "language_info": {
   "codemirror_mode": {
    "name": "ipython",
    "version": 3
   },
   "file_extension": ".py",
   "mimetype": "text/x-python",
   "name": "python",
   "nbconvert_exporter": "python",
   "pygments_lexer": "ipython3",
   "version": "3.10.10"
  },
  "papermill": {
   "default_parameters": {},
   "duration": 14.852108,
   "end_time": "2023-05-05T09:14:52.385605",
   "environment_variables": {},
   "exception": null,
   "input_path": "__notebook__.ipynb",
   "output_path": "__notebook__.ipynb",
   "parameters": {},
   "start_time": "2023-05-05T09:14:37.533497",
   "version": "2.4.0"
  }
 },
 "nbformat": 4,
 "nbformat_minor": 5
}
